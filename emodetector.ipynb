{
 "cells": [
  {
   "cell_type": "code",
   "execution_count": 1,
   "id": "bd1b56fa",
   "metadata": {},
   "outputs": [],
   "source": [
    "from keras.utils import to_categorical\n",
    "from keras.preprocessing.image import load_img\n",
    "from keras.models import Sequential\n",
    "from keras.layers import Dense, Conv2D, Dropout, Flatten, MaxPooling2D\n",
    "import os\n",
    "import pandas as pd\n",
    "import numpy as np"
   ]
  },
  {
   "cell_type": "code",
   "execution_count": 2,
   "id": "26efdfa3",
   "metadata": {},
   "outputs": [],
   "source": [
    "TRAIN_DIR = 'images/train'\n",
    "TEST_DIR = 'images/test'"
   ]
  },
  {
   "cell_type": "code",
   "execution_count": 3,
   "id": "afbb435c",
   "metadata": {},
   "outputs": [],
   "source": [
    "def createdataframe(dir):\n",
    "    image_paths = []\n",
    "    labels = []\n",
    "    for label in os.listdir(dir):\n",
    "        for imagename in os.listdir(os.path.join(dir,label)):\n",
    "            image_paths.append(os.path.join(dir,label,imagename))\n",
    "            labels.append(label)\n",
    "        print(label, \"completed\")\n",
    "    return image_paths,labels"
   ]
  },
  {
   "cell_type": "code",
   "execution_count": 5,
   "id": "79185116",
   "metadata": {},
   "outputs": [
    {
     "name": "stdout",
     "output_type": "stream",
     "text": [
      "angry completed\n",
      "disgust completed\n",
      "fear completed\n",
      "happy completed\n",
      "neutral completed\n",
      "sad completed\n",
      "surprise completed\n"
     ]
    }
   ],
   "source": [
    "train = pd.DataFrame()\n",
    "train['image'], train['label'] = createdataframe(TRAIN_DIR)"
   ]
  },
  {
   "cell_type": "code",
   "execution_count": 6,
   "id": "2bcaa531",
   "metadata": {},
   "outputs": [
    {
     "name": "stdout",
     "output_type": "stream",
     "text": [
      "                                image     label\n",
      "0            images/train\\angry\\0.jpg     angry\n",
      "1            images/train\\angry\\1.jpg     angry\n",
      "2           images/train\\angry\\10.jpg     angry\n",
      "3        images/train\\angry\\10002.jpg     angry\n",
      "4        images/train\\angry\\10016.jpg     angry\n",
      "...                               ...       ...\n",
      "28816  images/train\\surprise\\9969.jpg  surprise\n",
      "28817  images/train\\surprise\\9985.jpg  surprise\n",
      "28818  images/train\\surprise\\9990.jpg  surprise\n",
      "28819  images/train\\surprise\\9992.jpg  surprise\n",
      "28820  images/train\\surprise\\9996.jpg  surprise\n",
      "\n",
      "[28821 rows x 2 columns]\n"
     ]
    }
   ],
   "source": [
    "print(train)"
   ]
  },
  {
   "cell_type": "code",
   "execution_count": 7,
   "id": "43959673",
   "metadata": {},
   "outputs": [
    {
     "name": "stdout",
     "output_type": "stream",
     "text": [
      "angry completed\n",
      "disgust completed\n",
      "fear completed\n",
      "happy completed\n",
      "neutral completed\n",
      "sad completed\n",
      "surprise completed\n"
     ]
    }
   ],
   "source": [
    "test = pd.DataFrame()\n",
    "test['image'], test['label'] = createdataframe(TEST_DIR)"
   ]
  },
  {
   "cell_type": "code",
   "execution_count": 8,
   "id": "632f5777",
   "metadata": {},
   "outputs": [
    {
     "name": "stdout",
     "output_type": "stream",
     "text": [
      "                              image     label\n",
      "0       images/test\\angry\\10052.jpg     angry\n",
      "1       images/test\\angry\\10065.jpg     angry\n",
      "2       images/test\\angry\\10079.jpg     angry\n",
      "3       images/test\\angry\\10095.jpg     angry\n",
      "4       images/test\\angry\\10121.jpg     angry\n",
      "...                             ...       ...\n",
      "7061  images/test\\surprise\\9806.jpg  surprise\n",
      "7062  images/test\\surprise\\9830.jpg  surprise\n",
      "7063  images/test\\surprise\\9853.jpg  surprise\n",
      "7064  images/test\\surprise\\9878.jpg  surprise\n",
      "7065   images/test\\surprise\\993.jpg  surprise\n",
      "\n",
      "[7066 rows x 2 columns]\n",
      "0         images/test\\angry\\10052.jpg\n",
      "1         images/test\\angry\\10065.jpg\n",
      "2         images/test\\angry\\10079.jpg\n",
      "3         images/test\\angry\\10095.jpg\n",
      "4         images/test\\angry\\10121.jpg\n",
      "                    ...              \n",
      "7061    images/test\\surprise\\9806.jpg\n",
      "7062    images/test\\surprise\\9830.jpg\n",
      "7063    images/test\\surprise\\9853.jpg\n",
      "7064    images/test\\surprise\\9878.jpg\n",
      "7065     images/test\\surprise\\993.jpg\n",
      "Name: image, Length: 7066, dtype: object\n"
     ]
    }
   ],
   "source": [
    "print(test)\n",
    "print(test['image'])"
   ]
  },
  {
   "cell_type": "code",
   "execution_count": 9,
   "id": "108f2e15",
   "metadata": {},
   "outputs": [],
   "source": [
    "from tqdm.notebook import tqdm"
   ]
  },
  {
   "cell_type": "code",
   "execution_count": 10,
   "id": "c1e990d2",
   "metadata": {},
   "outputs": [],
   "source": [
    "def extract_features(images):\n",
    "    features = []\n",
    "    for image in tqdm(images):\n",
    "        img = load_img(image,grayscale =  True )\n",
    "        img = np.array(img)\n",
    "        features.append(img)\n",
    "    features = np.array(features)\n",
    "    features = features.reshape(len(features),48,48,1)\n",
    "    return features"
   ]
  },
  {
   "cell_type": "code",
   "execution_count": 11,
   "id": "eafa1aed",
   "metadata": {},
   "outputs": [
    {
     "data": {
      "application/vnd.jupyter.widget-view+json": {
       "model_id": "5c2834ee03c343aaa622108987c29f5d",
       "version_major": 2,
       "version_minor": 0
      },
      "text/plain": [
       "  0%|          | 0/28821 [00:00<?, ?it/s]"
      ]
     },
     "metadata": {},
     "output_type": "display_data"
    },
    {
     "name": "stderr",
     "output_type": "stream",
     "text": [
      "C:\\Users\\rpavi\\AppData\\Roaming\\Python\\Python311\\site-packages\\keras\\src\\utils\\image_utils.py:409: UserWarning: grayscale is deprecated. Please use color_mode = \"grayscale\"\n",
      "  warnings.warn(\n"
     ]
    }
   ],
   "source": [
    "train_features = extract_features(train['image']) "
   ]
  },
  {
   "cell_type": "code",
   "execution_count": 12,
   "id": "ccbb3d95",
   "metadata": {},
   "outputs": [
    {
     "data": {
      "application/vnd.jupyter.widget-view+json": {
       "model_id": "0527bb55aaab4346bb263674d06b28f0",
       "version_major": 2,
       "version_minor": 0
      },
      "text/plain": [
       "  0%|          | 0/7066 [00:00<?, ?it/s]"
      ]
     },
     "metadata": {},
     "output_type": "display_data"
    }
   ],
   "source": [
    "test_features = extract_features(test['image'])"
   ]
  },
  {
   "cell_type": "code",
   "execution_count": 13,
   "id": "b71e3de3",
   "metadata": {},
   "outputs": [],
   "source": [
    "x_train = train_features/255.0\n",
    "x_test = test_features/255.0"
   ]
  },
  {
   "cell_type": "code",
   "execution_count": 14,
   "id": "060ddc1c",
   "metadata": {},
   "outputs": [],
   "source": [
    "from sklearn.preprocessing import LabelEncoder"
   ]
  },
  {
   "cell_type": "code",
   "execution_count": 15,
   "id": "a96cb45a",
   "metadata": {},
   "outputs": [
    {
     "data": {
      "text/html": [
       "<style>#sk-container-id-1 {color: black;}#sk-container-id-1 pre{padding: 0;}#sk-container-id-1 div.sk-toggleable {background-color: white;}#sk-container-id-1 label.sk-toggleable__label {cursor: pointer;display: block;width: 100%;margin-bottom: 0;padding: 0.3em;box-sizing: border-box;text-align: center;}#sk-container-id-1 label.sk-toggleable__label-arrow:before {content: \"▸\";float: left;margin-right: 0.25em;color: #696969;}#sk-container-id-1 label.sk-toggleable__label-arrow:hover:before {color: black;}#sk-container-id-1 div.sk-estimator:hover label.sk-toggleable__label-arrow:before {color: black;}#sk-container-id-1 div.sk-toggleable__content {max-height: 0;max-width: 0;overflow: hidden;text-align: left;background-color: #f0f8ff;}#sk-container-id-1 div.sk-toggleable__content pre {margin: 0.2em;color: black;border-radius: 0.25em;background-color: #f0f8ff;}#sk-container-id-1 input.sk-toggleable__control:checked~div.sk-toggleable__content {max-height: 200px;max-width: 100%;overflow: auto;}#sk-container-id-1 input.sk-toggleable__control:checked~label.sk-toggleable__label-arrow:before {content: \"▾\";}#sk-container-id-1 div.sk-estimator input.sk-toggleable__control:checked~label.sk-toggleable__label {background-color: #d4ebff;}#sk-container-id-1 div.sk-label input.sk-toggleable__control:checked~label.sk-toggleable__label {background-color: #d4ebff;}#sk-container-id-1 input.sk-hidden--visually {border: 0;clip: rect(1px 1px 1px 1px);clip: rect(1px, 1px, 1px, 1px);height: 1px;margin: -1px;overflow: hidden;padding: 0;position: absolute;width: 1px;}#sk-container-id-1 div.sk-estimator {font-family: monospace;background-color: #f0f8ff;border: 1px dotted black;border-radius: 0.25em;box-sizing: border-box;margin-bottom: 0.5em;}#sk-container-id-1 div.sk-estimator:hover {background-color: #d4ebff;}#sk-container-id-1 div.sk-parallel-item::after {content: \"\";width: 100%;border-bottom: 1px solid gray;flex-grow: 1;}#sk-container-id-1 div.sk-label:hover label.sk-toggleable__label {background-color: #d4ebff;}#sk-container-id-1 div.sk-serial::before {content: \"\";position: absolute;border-left: 1px solid gray;box-sizing: border-box;top: 0;bottom: 0;left: 50%;z-index: 0;}#sk-container-id-1 div.sk-serial {display: flex;flex-direction: column;align-items: center;background-color: white;padding-right: 0.2em;padding-left: 0.2em;position: relative;}#sk-container-id-1 div.sk-item {position: relative;z-index: 1;}#sk-container-id-1 div.sk-parallel {display: flex;align-items: stretch;justify-content: center;background-color: white;position: relative;}#sk-container-id-1 div.sk-item::before, #sk-container-id-1 div.sk-parallel-item::before {content: \"\";position: absolute;border-left: 1px solid gray;box-sizing: border-box;top: 0;bottom: 0;left: 50%;z-index: -1;}#sk-container-id-1 div.sk-parallel-item {display: flex;flex-direction: column;z-index: 1;position: relative;background-color: white;}#sk-container-id-1 div.sk-parallel-item:first-child::after {align-self: flex-end;width: 50%;}#sk-container-id-1 div.sk-parallel-item:last-child::after {align-self: flex-start;width: 50%;}#sk-container-id-1 div.sk-parallel-item:only-child::after {width: 0;}#sk-container-id-1 div.sk-dashed-wrapped {border: 1px dashed gray;margin: 0 0.4em 0.5em 0.4em;box-sizing: border-box;padding-bottom: 0.4em;background-color: white;}#sk-container-id-1 div.sk-label label {font-family: monospace;font-weight: bold;display: inline-block;line-height: 1.2em;}#sk-container-id-1 div.sk-label-container {text-align: center;}#sk-container-id-1 div.sk-container {/* jupyter's `normalize.less` sets `[hidden] { display: none; }` but bootstrap.min.css set `[hidden] { display: none !important; }` so we also need the `!important` here to be able to override the default hidden behavior on the sphinx rendered scikit-learn.org. See: https://github.com/scikit-learn/scikit-learn/issues/21755 */display: inline-block !important;position: relative;}#sk-container-id-1 div.sk-text-repr-fallback {display: none;}</style><div id=\"sk-container-id-1\" class=\"sk-top-container\"><div class=\"sk-text-repr-fallback\"><pre>LabelEncoder()</pre><b>In a Jupyter environment, please rerun this cell to show the HTML representation or trust the notebook. <br />On GitHub, the HTML representation is unable to render, please try loading this page with nbviewer.org.</b></div><div class=\"sk-container\" hidden><div class=\"sk-item\"><div class=\"sk-estimator sk-toggleable\"><input class=\"sk-toggleable__control sk-hidden--visually\" id=\"sk-estimator-id-1\" type=\"checkbox\" checked><label for=\"sk-estimator-id-1\" class=\"sk-toggleable__label sk-toggleable__label-arrow\">LabelEncoder</label><div class=\"sk-toggleable__content\"><pre>LabelEncoder()</pre></div></div></div></div></div>"
      ],
      "text/plain": [
       "LabelEncoder()"
      ]
     },
     "execution_count": 15,
     "metadata": {},
     "output_type": "execute_result"
    }
   ],
   "source": [
    "le = LabelEncoder()\n",
    "le.fit(train['label'])"
   ]
  },
  {
   "cell_type": "code",
   "execution_count": 16,
   "id": "d0bcb6be",
   "metadata": {},
   "outputs": [],
   "source": [
    "y_train = le.transform(train['label'])\n",
    "y_test = le.transform(test['label'])"
   ]
  },
  {
   "cell_type": "code",
   "execution_count": 17,
   "id": "33706a41",
   "metadata": {},
   "outputs": [],
   "source": [
    "y_train = to_categorical(y_train,num_classes = 7)\n",
    "y_test = to_categorical(y_test,num_classes = 7)"
   ]
  },
  {
   "cell_type": "code",
   "execution_count": 18,
   "id": "a6905f7b",
   "metadata": {},
   "outputs": [],
   "source": [
    "model = Sequential()\n",
    "# convolutional layers\n",
    "model.add(Conv2D(128, kernel_size=(3,3), activation='relu', input_shape=(48,48,1)))\n",
    "model.add(MaxPooling2D(pool_size=(2,2)))\n",
    "model.add(Dropout(0.4))\n",
    "\n",
    "model.add(Conv2D(256, kernel_size=(3,3), activation='relu'))\n",
    "model.add(MaxPooling2D(pool_size=(2,2)))\n",
    "model.add(Dropout(0.4))\n",
    "\n",
    "model.add(Conv2D(512, kernel_size=(3,3), activation='relu'))\n",
    "model.add(MaxPooling2D(pool_size=(2,2)))\n",
    "model.add(Dropout(0.4))\n",
    "\n",
    "model.add(Conv2D(512, kernel_size=(3,3), activation='relu'))\n",
    "model.add(MaxPooling2D(pool_size=(2,2)))\n",
    "model.add(Dropout(0.4))\n",
    "\n",
    "model.add(Flatten())\n",
    "# fully connected layers\n",
    "model.add(Dense(512, activation='relu'))\n",
    "model.add(Dropout(0.4))\n",
    "model.add(Dense(256, activation='relu'))\n",
    "model.add(Dropout(0.3))\n",
    "# output layer\n",
    "model.add(Dense(7, activation='softmax'))"
   ]
  },
  {
   "cell_type": "code",
   "execution_count": 19,
   "id": "c8576dcb",
   "metadata": {},
   "outputs": [],
   "source": [
    "model.compile(optimizer = 'adam', loss = 'categorical_crossentropy', metrics = 'accuracy' )"
   ]
  },
  {
   "cell_type": "code",
   "execution_count": 20,
   "id": "ab421bef",
   "metadata": {},
   "outputs": [
    {
     "name": "stdout",
     "output_type": "stream",
     "text": [
      "Epoch 1/100\n",
      "226/226 [==============================] - 437s 2s/step - loss: 1.8231 - accuracy: 0.2438 - val_loss: 1.8122 - val_accuracy: 0.2583\n",
      "Epoch 2/100\n",
      "226/226 [==============================] - 412s 2s/step - loss: 1.8051 - accuracy: 0.2505 - val_loss: 1.7884 - val_accuracy: 0.2631\n",
      "Epoch 3/100\n",
      "226/226 [==============================] - 425s 2s/step - loss: 1.7249 - accuracy: 0.2942 - val_loss: 1.6111 - val_accuracy: 0.3814\n",
      "Epoch 4/100\n",
      "226/226 [==============================] - 449s 2s/step - loss: 1.5837 - accuracy: 0.3742 - val_loss: 1.4407 - val_accuracy: 0.4417\n",
      "Epoch 5/100\n",
      "226/226 [==============================] - 440s 2s/step - loss: 1.4923 - accuracy: 0.4187 - val_loss: 1.3764 - val_accuracy: 0.4805\n",
      "Epoch 6/100\n",
      "226/226 [==============================] - 435s 2s/step - loss: 1.4282 - accuracy: 0.4446 - val_loss: 1.3077 - val_accuracy: 0.4943\n",
      "Epoch 7/100\n",
      "226/226 [==============================] - 432s 2s/step - loss: 1.3982 - accuracy: 0.4616 - val_loss: 1.2607 - val_accuracy: 0.5166\n",
      "Epoch 8/100\n",
      "226/226 [==============================] - 435s 2s/step - loss: 1.3598 - accuracy: 0.4791 - val_loss: 1.2918 - val_accuracy: 0.5035\n",
      "Epoch 9/100\n",
      "226/226 [==============================] - 422s 2s/step - loss: 1.3391 - accuracy: 0.4880 - val_loss: 1.2292 - val_accuracy: 0.5364\n",
      "Epoch 10/100\n",
      "226/226 [==============================] - 415s 2s/step - loss: 1.3108 - accuracy: 0.4980 - val_loss: 1.1955 - val_accuracy: 0.5412\n",
      "Epoch 11/100\n",
      "226/226 [==============================] - 411s 2s/step - loss: 1.2967 - accuracy: 0.5024 - val_loss: 1.1950 - val_accuracy: 0.5460\n",
      "Epoch 12/100\n",
      "226/226 [==============================] - 413s 2s/step - loss: 1.2707 - accuracy: 0.5151 - val_loss: 1.1701 - val_accuracy: 0.5504\n",
      "Epoch 13/100\n",
      "226/226 [==============================] - 412s 2s/step - loss: 1.2553 - accuracy: 0.5220 - val_loss: 1.1740 - val_accuracy: 0.5552\n",
      "Epoch 14/100\n",
      "226/226 [==============================] - 410s 2s/step - loss: 1.2475 - accuracy: 0.5228 - val_loss: 1.1578 - val_accuracy: 0.5589\n",
      "Epoch 15/100\n",
      "226/226 [==============================] - 411s 2s/step - loss: 1.2265 - accuracy: 0.5330 - val_loss: 1.1472 - val_accuracy: 0.5630\n",
      "Epoch 16/100\n",
      "226/226 [==============================] - 413s 2s/step - loss: 1.2173 - accuracy: 0.5366 - val_loss: 1.1535 - val_accuracy: 0.5638\n",
      "Epoch 17/100\n",
      "226/226 [==============================] - 415s 2s/step - loss: 1.2094 - accuracy: 0.5394 - val_loss: 1.1287 - val_accuracy: 0.5753\n",
      "Epoch 18/100\n",
      "226/226 [==============================] - 412s 2s/step - loss: 1.1907 - accuracy: 0.5461 - val_loss: 1.1295 - val_accuracy: 0.5770\n",
      "Epoch 19/100\n",
      "226/226 [==============================] - 417s 2s/step - loss: 1.1843 - accuracy: 0.5492 - val_loss: 1.1232 - val_accuracy: 0.5763\n",
      "Epoch 20/100\n",
      "226/226 [==============================] - 421s 2s/step - loss: 1.1724 - accuracy: 0.5555 - val_loss: 1.1098 - val_accuracy: 0.5825\n",
      "Epoch 21/100\n",
      "226/226 [==============================] - 420s 2s/step - loss: 1.1687 - accuracy: 0.5590 - val_loss: 1.1145 - val_accuracy: 0.5793\n",
      "Epoch 22/100\n",
      "226/226 [==============================] - 459s 2s/step - loss: 1.1571 - accuracy: 0.5602 - val_loss: 1.1100 - val_accuracy: 0.5798\n",
      "Epoch 23/100\n",
      "226/226 [==============================] - 378s 2s/step - loss: 1.1510 - accuracy: 0.5604 - val_loss: 1.0988 - val_accuracy: 0.5896\n",
      "Epoch 24/100\n",
      "226/226 [==============================] - 372s 2s/step - loss: 1.1417 - accuracy: 0.5681 - val_loss: 1.0969 - val_accuracy: 0.5885\n",
      "Epoch 25/100\n",
      "226/226 [==============================] - 369s 2s/step - loss: 1.1328 - accuracy: 0.5704 - val_loss: 1.0884 - val_accuracy: 0.5885\n",
      "Epoch 26/100\n",
      "226/226 [==============================] - 371s 2s/step - loss: 1.1274 - accuracy: 0.5717 - val_loss: 1.0987 - val_accuracy: 0.5907\n",
      "Epoch 27/100\n",
      "226/226 [==============================] - 369s 2s/step - loss: 1.1168 - accuracy: 0.5750 - val_loss: 1.0817 - val_accuracy: 0.5958\n",
      "Epoch 28/100\n",
      "226/226 [==============================] - 370s 2s/step - loss: 1.1040 - accuracy: 0.5820 - val_loss: 1.0865 - val_accuracy: 0.5921\n",
      "Epoch 29/100\n",
      "226/226 [==============================] - 371s 2s/step - loss: 1.1046 - accuracy: 0.5827 - val_loss: 1.0913 - val_accuracy: 0.5918\n",
      "Epoch 30/100\n",
      "226/226 [==============================] - 368s 2s/step - loss: 1.0971 - accuracy: 0.5854 - val_loss: 1.0722 - val_accuracy: 0.6027\n",
      "Epoch 31/100\n",
      "226/226 [==============================] - 366s 2s/step - loss: 1.0881 - accuracy: 0.5871 - val_loss: 1.0709 - val_accuracy: 0.6008\n",
      "Epoch 32/100\n",
      "226/226 [==============================] - 368s 2s/step - loss: 1.0775 - accuracy: 0.5919 - val_loss: 1.0672 - val_accuracy: 0.5971\n",
      "Epoch 33/100\n",
      "226/226 [==============================] - 369s 2s/step - loss: 1.0814 - accuracy: 0.5873 - val_loss: 1.0607 - val_accuracy: 0.6052\n",
      "Epoch 34/100\n",
      "226/226 [==============================] - 371s 2s/step - loss: 1.0653 - accuracy: 0.6002 - val_loss: 1.0687 - val_accuracy: 0.6050\n",
      "Epoch 35/100\n",
      "226/226 [==============================] - 853s 4s/step - loss: 1.0614 - accuracy: 0.5976 - val_loss: 1.0602 - val_accuracy: 0.6049\n",
      "Epoch 36/100\n",
      "226/226 [==============================] - 365s 2s/step - loss: 1.0538 - accuracy: 0.6033 - val_loss: 1.0641 - val_accuracy: 0.6035\n",
      "Epoch 37/100\n",
      "226/226 [==============================] - 368s 2s/step - loss: 1.0492 - accuracy: 0.6036 - val_loss: 1.0628 - val_accuracy: 0.6012\n",
      "Epoch 38/100\n",
      "226/226 [==============================] - 371s 2s/step - loss: 1.0436 - accuracy: 0.6043 - val_loss: 1.0631 - val_accuracy: 0.6012\n",
      "Epoch 39/100\n",
      "226/226 [==============================] - 373s 2s/step - loss: 1.0327 - accuracy: 0.6102 - val_loss: 1.0455 - val_accuracy: 0.6108\n",
      "Epoch 40/100\n",
      "226/226 [==============================] - 376s 2s/step - loss: 1.0369 - accuracy: 0.6118 - val_loss: 1.0544 - val_accuracy: 0.6097\n",
      "Epoch 41/100\n",
      "226/226 [==============================] - 375s 2s/step - loss: 1.0160 - accuracy: 0.6167 - val_loss: 1.0581 - val_accuracy: 0.6070\n",
      "Epoch 42/100\n",
      "226/226 [==============================] - 376s 2s/step - loss: 1.0195 - accuracy: 0.6150 - val_loss: 1.0376 - val_accuracy: 0.6139\n",
      "Epoch 43/100\n",
      "226/226 [==============================] - 377s 2s/step - loss: 1.0167 - accuracy: 0.6181 - val_loss: 1.0592 - val_accuracy: 0.6015\n",
      "Epoch 44/100\n",
      "226/226 [==============================] - 378s 2s/step - loss: 1.0081 - accuracy: 0.6178 - val_loss: 1.0419 - val_accuracy: 0.6127\n",
      "Epoch 45/100\n",
      "226/226 [==============================] - 379s 2s/step - loss: 1.0037 - accuracy: 0.6215 - val_loss: 1.0495 - val_accuracy: 0.6095\n",
      "Epoch 46/100\n",
      "226/226 [==============================] - 378s 2s/step - loss: 0.9952 - accuracy: 0.6283 - val_loss: 1.0459 - val_accuracy: 0.6050\n",
      "Epoch 47/100\n",
      "226/226 [==============================] - 374s 2s/step - loss: 0.9890 - accuracy: 0.6279 - val_loss: 1.0525 - val_accuracy: 0.6102\n",
      "Epoch 48/100\n",
      "226/226 [==============================] - 374s 2s/step - loss: 0.9767 - accuracy: 0.6327 - val_loss: 1.0422 - val_accuracy: 0.6158\n",
      "Epoch 49/100\n",
      "226/226 [==============================] - 28433s 126s/step - loss: 0.9817 - accuracy: 0.6315 - val_loss: 1.0491 - val_accuracy: 0.6085\n",
      "Epoch 50/100\n",
      "226/226 [==============================] - 2378s 11s/step - loss: 0.9783 - accuracy: 0.6310 - val_loss: 1.0433 - val_accuracy: 0.6142\n",
      "Epoch 51/100\n",
      "226/226 [==============================] - 1953s 9s/step - loss: 0.9701 - accuracy: 0.6352 - val_loss: 1.0471 - val_accuracy: 0.6185\n",
      "Epoch 52/100\n",
      "226/226 [==============================] - 1793s 8s/step - loss: 0.9642 - accuracy: 0.6362 - val_loss: 1.0449 - val_accuracy: 0.6176\n",
      "Epoch 53/100\n",
      "226/226 [==============================] - 1863s 8s/step - loss: 0.9654 - accuracy: 0.6362 - val_loss: 1.0461 - val_accuracy: 0.6108\n",
      "Epoch 54/100\n",
      "226/226 [==============================] - 1818s 8s/step - loss: 0.9545 - accuracy: 0.6402 - val_loss: 1.0469 - val_accuracy: 0.6185\n",
      "Epoch 55/100\n",
      "226/226 [==============================] - 1766s 8s/step - loss: 0.9467 - accuracy: 0.6438 - val_loss: 1.0534 - val_accuracy: 0.6177\n",
      "Epoch 56/100\n",
      "226/226 [==============================] - 830s 4s/step - loss: 0.9491 - accuracy: 0.6410 - val_loss: 1.0422 - val_accuracy: 0.6156\n",
      "Epoch 57/100\n",
      "226/226 [==============================] - 508s 2s/step - loss: 0.9476 - accuracy: 0.6462 - val_loss: 1.0496 - val_accuracy: 0.6199\n",
      "Epoch 58/100\n",
      "226/226 [==============================] - 511s 2s/step - loss: 0.9385 - accuracy: 0.6459 - val_loss: 1.0363 - val_accuracy: 0.6214\n",
      "Epoch 59/100\n",
      "226/226 [==============================] - 513s 2s/step - loss: 0.9266 - accuracy: 0.6559 - val_loss: 1.0272 - val_accuracy: 0.6206\n",
      "Epoch 60/100\n",
      "226/226 [==============================] - 511s 2s/step - loss: 0.9304 - accuracy: 0.6534 - val_loss: 1.0548 - val_accuracy: 0.6156\n",
      "Epoch 61/100\n",
      "226/226 [==============================] - 511s 2s/step - loss: 0.9220 - accuracy: 0.6594 - val_loss: 1.0352 - val_accuracy: 0.6210\n",
      "Epoch 62/100\n",
      "226/226 [==============================] - 506s 2s/step - loss: 0.9110 - accuracy: 0.6579 - val_loss: 1.0362 - val_accuracy: 0.6199\n",
      "Epoch 63/100\n",
      "226/226 [==============================] - 508s 2s/step - loss: 0.9162 - accuracy: 0.6610 - val_loss: 1.0399 - val_accuracy: 0.6237\n",
      "Epoch 64/100\n",
      "226/226 [==============================] - 504s 2s/step - loss: 0.9028 - accuracy: 0.6627 - val_loss: 1.0377 - val_accuracy: 0.6291\n",
      "Epoch 65/100\n",
      "226/226 [==============================] - 504s 2s/step - loss: 0.9000 - accuracy: 0.6665 - val_loss: 1.0384 - val_accuracy: 0.6219\n",
      "Epoch 66/100\n",
      "226/226 [==============================] - 508s 2s/step - loss: 0.8962 - accuracy: 0.6663 - val_loss: 1.0349 - val_accuracy: 0.6234\n",
      "Epoch 67/100\n",
      "226/226 [==============================] - 507s 2s/step - loss: 0.8972 - accuracy: 0.6675 - val_loss: 1.0407 - val_accuracy: 0.6252\n",
      "Epoch 68/100\n",
      "226/226 [==============================] - 506s 2s/step - loss: 0.8903 - accuracy: 0.6689 - val_loss: 1.0280 - val_accuracy: 0.6281\n",
      "Epoch 69/100\n",
      "226/226 [==============================] - 507s 2s/step - loss: 0.8861 - accuracy: 0.6702 - val_loss: 1.0377 - val_accuracy: 0.6251\n",
      "Epoch 70/100\n",
      "226/226 [==============================] - 516s 2s/step - loss: 0.8824 - accuracy: 0.6727 - val_loss: 1.0257 - val_accuracy: 0.6268\n",
      "Epoch 71/100\n",
      "226/226 [==============================] - 513s 2s/step - loss: 0.8734 - accuracy: 0.6754 - val_loss: 1.0476 - val_accuracy: 0.6209\n",
      "Epoch 72/100\n",
      "226/226 [==============================] - 503s 2s/step - loss: 0.8737 - accuracy: 0.6766 - val_loss: 1.0392 - val_accuracy: 0.6230\n",
      "Epoch 73/100\n",
      "226/226 [==============================] - 508s 2s/step - loss: 0.8673 - accuracy: 0.6784 - val_loss: 1.0355 - val_accuracy: 0.6264\n",
      "Epoch 74/100\n",
      "226/226 [==============================] - 510s 2s/step - loss: 0.8719 - accuracy: 0.6808 - val_loss: 1.0334 - val_accuracy: 0.6285\n",
      "Epoch 75/100\n",
      "226/226 [==============================] - 509s 2s/step - loss: 0.8617 - accuracy: 0.6821 - val_loss: 1.0422 - val_accuracy: 0.6244\n",
      "Epoch 76/100\n",
      "226/226 [==============================] - 508s 2s/step - loss: 0.8619 - accuracy: 0.6819 - val_loss: 1.0288 - val_accuracy: 0.6264\n",
      "Epoch 77/100\n",
      "226/226 [==============================] - 512s 2s/step - loss: 0.8392 - accuracy: 0.6865 - val_loss: 1.0590 - val_accuracy: 0.6200\n",
      "Epoch 78/100\n",
      "226/226 [==============================] - 512s 2s/step - loss: 0.8434 - accuracy: 0.6868 - val_loss: 1.0329 - val_accuracy: 0.6230\n",
      "Epoch 79/100\n",
      "226/226 [==============================] - 507s 2s/step - loss: 0.8421 - accuracy: 0.6916 - val_loss: 1.0383 - val_accuracy: 0.6261\n",
      "Epoch 80/100\n",
      "226/226 [==============================] - 505s 2s/step - loss: 0.8322 - accuracy: 0.6952 - val_loss: 1.0219 - val_accuracy: 0.6305\n",
      "Epoch 81/100\n",
      "226/226 [==============================] - 508s 2s/step - loss: 0.8338 - accuracy: 0.6922 - val_loss: 1.0377 - val_accuracy: 0.6255\n",
      "Epoch 82/100\n",
      "226/226 [==============================] - 516s 2s/step - loss: 0.8299 - accuracy: 0.6931 - val_loss: 1.0272 - val_accuracy: 0.6260\n",
      "Epoch 83/100\n",
      "226/226 [==============================] - 510s 2s/step - loss: 0.8288 - accuracy: 0.6930 - val_loss: 1.0407 - val_accuracy: 0.6301\n",
      "Epoch 84/100\n",
      "226/226 [==============================] - 1658s 7s/step - loss: 0.8157 - accuracy: 0.7022 - val_loss: 1.0460 - val_accuracy: 0.6261\n",
      "Epoch 85/100\n",
      "226/226 [==============================] - 1791s 8s/step - loss: 0.8218 - accuracy: 0.6975 - val_loss: 1.0329 - val_accuracy: 0.6285\n",
      "Epoch 86/100\n",
      "226/226 [==============================] - 1798s 8s/step - loss: 0.8123 - accuracy: 0.7008 - val_loss: 1.0318 - val_accuracy: 0.6325\n",
      "Epoch 87/100\n",
      "226/226 [==============================] - 1783s 8s/step - loss: 0.8145 - accuracy: 0.7012 - val_loss: 1.0234 - val_accuracy: 0.6337\n",
      "Epoch 88/100\n",
      "226/226 [==============================] - 1840s 8s/step - loss: 0.8080 - accuracy: 0.7037 - val_loss: 1.0340 - val_accuracy: 0.6298\n",
      "Epoch 89/100\n",
      "226/226 [==============================] - 1998s 9s/step - loss: 0.8039 - accuracy: 0.7015 - val_loss: 1.0350 - val_accuracy: 0.6291\n",
      "Epoch 90/100\n",
      "226/226 [==============================] - 1883s 8s/step - loss: 0.8095 - accuracy: 0.7023 - val_loss: 1.0433 - val_accuracy: 0.6238\n",
      "Epoch 91/100\n",
      "226/226 [==============================] - 1815s 8s/step - loss: 0.7918 - accuracy: 0.7115 - val_loss: 1.0345 - val_accuracy: 0.6339\n",
      "Epoch 92/100\n",
      "226/226 [==============================] - 1779s 8s/step - loss: 0.7829 - accuracy: 0.7114 - val_loss: 1.0379 - val_accuracy: 0.6241\n",
      "Epoch 93/100\n",
      "226/226 [==============================] - 974s 4s/step - loss: 0.7925 - accuracy: 0.7127 - val_loss: 1.0261 - val_accuracy: 0.6323\n",
      "Epoch 94/100\n",
      "226/226 [==============================] - 743s 3s/step - loss: 0.7760 - accuracy: 0.7166 - val_loss: 1.0301 - val_accuracy: 0.6349\n",
      "Epoch 95/100\n",
      "226/226 [==============================] - 755s 3s/step - loss: 0.7875 - accuracy: 0.7147 - val_loss: 1.0387 - val_accuracy: 0.6278\n",
      "Epoch 96/100\n",
      "226/226 [==============================] - 371s 2s/step - loss: 0.7799 - accuracy: 0.7153 - val_loss: 1.0415 - val_accuracy: 0.6325\n",
      "Epoch 97/100\n",
      "226/226 [==============================] - 368s 2s/step - loss: 0.7722 - accuracy: 0.7172 - val_loss: 1.0424 - val_accuracy: 0.6252\n",
      "Epoch 98/100\n",
      "226/226 [==============================] - 369s 2s/step - loss: 0.7680 - accuracy: 0.7194 - val_loss: 1.0347 - val_accuracy: 0.6340\n",
      "Epoch 99/100\n",
      "226/226 [==============================] - 368s 2s/step - loss: 0.7638 - accuracy: 0.7191 - val_loss: 1.0556 - val_accuracy: 0.6260\n",
      "Epoch 100/100\n",
      "226/226 [==============================] - 368s 2s/step - loss: 0.7641 - accuracy: 0.7203 - val_loss: 1.0402 - val_accuracy: 0.6294\n"
     ]
    },
    {
     "data": {
      "text/plain": [
       "<keras.src.callbacks.History at 0x28f7e389c90>"
      ]
     },
     "execution_count": 20,
     "metadata": {},
     "output_type": "execute_result"
    }
   ],
   "source": [
    "model.fit(x= x_train,y = y_train, batch_size = 128, epochs = 100, validation_data = (x_test,y_test)) "
   ]
  },
  {
   "cell_type": "code",
   "execution_count": 21,
   "id": "f36f03f5",
   "metadata": {},
   "outputs": [
    {
     "name": "stderr",
     "output_type": "stream",
     "text": [
      "C:\\Users\\rpavi\\AppData\\Roaming\\Python\\Python311\\site-packages\\keras\\src\\engine\\training.py:3079: UserWarning: You are saving your model as an HDF5 file via `model.save()`. This file format is considered legacy. We recommend using instead the native Keras format, e.g. `model.save('my_model.keras')`.\n",
      "  saving_api.save_model(\n"
     ]
    }
   ],
   "source": [
    "model_json = model.to_json()\n",
    "with open(\"emotiondetector.json\",'w') as json_file:\n",
    "    json_file.write(model_json)\n",
    "model.save(\"emotiondetector.h5\")"
   ]
  },
  {
   "cell_type": "code",
   "execution_count": 22,
   "id": "28765153",
   "metadata": {},
   "outputs": [],
   "source": [
    "from keras.models import model_from_json"
   ]
  },
  {
   "cell_type": "code",
   "execution_count": 23,
   "id": "60ca506c",
   "metadata": {},
   "outputs": [],
   "source": [
    "json_file = open(\"emotiondetector.json\", \"r\")\n",
    "model_json = json_file.read()\n",
    "json_file.close()\n",
    "model = model_from_json(model_json)\n",
    "model.load_weights(\"emotiondetector.h5\")"
   ]
  },
  {
   "cell_type": "code",
   "execution_count": 24,
   "id": "8d800ddc",
   "metadata": {},
   "outputs": [],
   "source": [
    "label = ['angry','disgust','fear','happy','neutral','sad','surprise']"
   ]
  },
  {
   "cell_type": "code",
   "execution_count": 25,
   "id": "3c571725",
   "metadata": {},
   "outputs": [],
   "source": [
    "def ef(image):\n",
    "    img = load_img(image,grayscale =  True )\n",
    "    feature = np.array(img)\n",
    "    feature = feature.reshape(1,48,48,1)\n",
    "    return feature/255.0"
   ]
  },
  {
   "cell_type": "code",
   "execution_count": 26,
   "id": "b45a27a1",
   "metadata": {},
   "outputs": [
    {
     "name": "stdout",
     "output_type": "stream",
     "text": [
      "original image is of sad\n"
     ]
    },
    {
     "name": "stderr",
     "output_type": "stream",
     "text": [
      "C:\\Users\\rpavi\\AppData\\Roaming\\Python\\Python311\\site-packages\\keras\\src\\utils\\image_utils.py:409: UserWarning: grayscale is deprecated. Please use color_mode = \"grayscale\"\n",
      "  warnings.warn(\n"
     ]
    },
    {
     "name": "stdout",
     "output_type": "stream",
     "text": [
      "1/1 [==============================] - 4s 4s/step\n",
      "model prediction is  sad\n"
     ]
    }
   ],
   "source": [
    "image = 'images/train/sad/42.jpg'\n",
    "print(\"original image is of sad\")\n",
    "img = ef(image)\n",
    "pred = model.predict(img)\n",
    "pred_label = label[pred.argmax()]\n",
    "print(\"model prediction is \",pred_label)"
   ]
  },
  {
   "cell_type": "code",
   "execution_count": 27,
   "id": "372c7d1e",
   "metadata": {},
   "outputs": [],
   "source": [
    "import matplotlib.pyplot as plt\n",
    "%matplotlib inline"
   ]
  },
  {
   "cell_type": "code",
   "execution_count": 29,
   "id": "90763bec",
   "metadata": {},
   "outputs": [
    {
     "name": "stdout",
     "output_type": "stream",
     "text": [
      "original image is of sad\n",
      "1/1 [==============================] - 0s 39ms/step\n",
      "model prediction is  sad\n"
     ]
    },
    {
     "data": {
      "text/plain": [
       "<matplotlib.image.AxesImage at 0x28f03482e90>"
      ]
     },
     "execution_count": 29,
     "metadata": {},
     "output_type": "execute_result"
    },
    {
     "data": {
      "image/png": "[encoded data removed]",
      "text/plain": [
       "<Figure size 640x480 with 1 Axes>"
      ]
     },
     "metadata": {},
     "output_type": "display_data"
    }
   ],
   "source": [
    " image = 'images/train/sad/42.jpg'\n",
    "print(\"original image is of sad\")\n",
    "img = ef(image)\n",
    "pred = model.predict(img)\n",
    "pred_label = label[pred.argmax()]\n",
    "print(\"model prediction is \",pred_label)\n",
    "plt.imshow(img.reshape(48,48))"
   ]
  },
  {
   "cell_type": "code",
   "execution_count": 30,
   "id": "36e74e0e",
   "metadata": {},
   "outputs": [
    {
     "name": "stdout",
     "output_type": "stream",
     "text": [
      "original image is of fear\n",
      "1/1 [==============================] - 0s 50ms/step\n",
      "model prediction is  sad\n"
     ]
    },
    {
     "data": {
      "text/plain": [
       "<matplotlib.image.AxesImage at 0x28f0350bb50>"
      ]
     },
     "execution_count": 30,
     "metadata": {},
     "output_type": "execute_result"
    },
    {
     "data": {
      "image/png": "[encoded data removed]",
      "text/plain": [
       "<Figure size 640x480 with 1 Axes>"
      ]
     },
     "metadata": {},
     "output_type": "display_data"
    }
   ],
   "source": [
    "image = 'images/train/fear/2.jpg'\n",
    "print(\"original image is of fear\")\n",
    "img = ef(image)\n",
    "pred = model.predict(img)\n",
    "pred_label = label[pred.argmax()]\n",
    "print(\"model prediction is \",pred_label)\n",
    "plt.imshow(img.reshape(48,48),cmap='gray')"
   ]
  },
  {
   "cell_type": "code",
   "execution_count": 31,
   "id": "e0320539",
   "metadata": {},
   "outputs": [
    {
     "name": "stdout",
     "output_type": "stream",
     "text": [
      "original image is of disgust\n",
      "1/1 [==============================] - 0s 42ms/step\n",
      "model prediction is  disgust\n"
     ]
    },
    {
     "data": {
      "text/plain": [
       "<matplotlib.image.AxesImage at 0x28f034f5a50>"
      ]
     },
     "execution_count": 31,
     "metadata": {},
     "output_type": "execute_result"
    },
    {
     "data": {
      "image/png": "[encoded data removed]",
      "text/plain": [
       "<Figure size 640x480 with 1 Axes>"
      ]
     },
     "metadata": {},
     "output_type": "display_data"
    }
   ],
   "source": [
    "image = 'images/train/disgust/299.jpg'\n",
    "print(\"original image is of disgust\")\n",
    "img = ef(image)\n",
    "pred = model.predict(img)\n",
    "pred_label = label[pred.argmax()]\n",
    "print(\"model prediction is \",pred_label)\n",
    "plt.imshow(img.reshape(48,48),cmap='gray')"
   ]
  },
  {
   "cell_type": "code",
   "execution_count": 32,
   "id": "7a72b223",
   "metadata": {},
   "outputs": [
    {
     "name": "stdout",
     "output_type": "stream",
     "text": [
      "original image is of happy\n",
      "1/1 [==============================] - 0s 48ms/step\n",
      "model prediction is  happy\n"
     ]
    },
    {
     "data": {
      "text/plain": [
       "<matplotlib.image.AxesImage at 0x28f03332850>"
      ]
     },
     "execution_count": 32,
     "metadata": {},
     "output_type": "execute_result"
    },
    {
     "data": {
      "image/png": "[encoded data removed]",
      "text/plain": [
       "<Figure size 640x480 with 1 Axes>"
      ]
     },
     "metadata": {},
     "output_type": "display_data"
    }
   ],
   "source": [
    "image = 'images/train/happy/7.jpg'\n",
    "print(\"original image is of happy\")\n",
    "img = ef(image)\n",
    "pred = model.predict(img)\n",
    "pred_label = label[pred.argmax()]\n",
    "print(\"model prediction is \",pred_label)\n",
    "plt.imshow(img.reshape(48,48),cmap='gray')"
   ]
  },
  {
   "cell_type": "code",
   "execution_count": 33,
   "id": "eeaba9ba",
   "metadata": {},
   "outputs": [
    {
     "name": "stdout",
     "output_type": "stream",
     "text": [
      "original image is of surprise\n",
      "1/1 [==============================] - 0s 44ms/step\n",
      "model prediction is  surprise\n"
     ]
    },
    {
     "data": {
      "text/plain": [
       "<matplotlib.image.AxesImage at 0x28f032f8c10>"
      ]
     },
     "execution_count": 33,
     "metadata": {},
     "output_type": "execute_result"
    },
    {
     "data": {
      "image/png": "[encoded data removed]",
      "text/plain": [
       "<Figure size 640x480 with 1 Axes>"
      ]
     },
     "metadata": {},
     "output_type": "display_data"
    }
   ],
   "source": [
    "image = 'images/train/surprise/15.jpg'\n",
    "print(\"original image is of surprise\")\n",
    "img = ef(image)\n",
    "pred = model.predict(img)\n",
    "pred_label = label[pred.argmax()]\n",
    "print(\"model prediction is \",pred_label)\n",
    "plt.imshow(img.reshape(48,48),cmap='gray')"
   ]
  },
  {
   "cell_type": "code",
   "execution_count": null,
   "id": "f88ece0d",
   "metadata": {},
   "outputs": [],
   "source": []
  }
 ],
 "metadata": {
  "kernelspec": {
   "display_name": "Python 3 (ipykernel)",
   "language": "python",
   "name": "python3"
  },
  "language_info": {
   "codemirror_mode": {
    "name": "ipython",
    "version": 3
   },
   "file_extension": ".py",
   "mimetype": "text/x-python",
   "name": "python",
   "nbconvert_exporter": "python",
   "pygments_lexer": "ipython3",
   "version": "3.11.5"
  }
 },
 "nbformat": 4,
 "nbformat_minor": 5
}
